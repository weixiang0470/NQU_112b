{
 "cells": [
  {
   "cell_type": "code",
   "execution_count": 3,
   "id": "c191aed1-4126-4320-8d61-945e0a6cb5e8",
   "metadata": {},
   "outputs": [
    {
     "name": "stdout",
     "output_type": "stream",
     "text": [
      "WARNING:tensorflow:From C:\\Users\\user\\AppData\\Local\\Temp\\ipykernel_3704\\2820872922.py:2: The name tf.disable_v2_behavior is deprecated. Please use tf.compat.v1.disable_v2_behavior instead.\n",
      "\n",
      "WARNING:tensorflow:From C:\\Users\\user\\Aianaa\\Lib\\site-packages\\tensorflow\\python\\compat\\v2_compat.py:98: disable_resource_variables (from tensorflow.python.ops.resource_variables_toggle) is deprecated and will be removed in a future version.\n",
      "Instructions for updating:\n",
      "non-resource variables are not supported in the long term\n"
     ]
    }
   ],
   "source": [
    "import tensorflow.compat.v1 as tf\n",
    "tf.disable_v2_behavior()"
   ]
  },
  {
   "cell_type": "code",
   "execution_count": 4,
   "id": "334d03f3-5ba2-43da-8671-bb101f4e1878",
   "metadata": {},
   "outputs": [],
   "source": [
    "ts_c = tf.constant(2,name='ts_c')"
   ]
  },
  {
   "cell_type": "code",
   "execution_count": 5,
   "id": "2be30c01-6724-43d8-a94c-32389aebb0b9",
   "metadata": {},
   "outputs": [
    {
     "data": {
      "text/plain": [
       "<tf.Tensor 'ts_c:0' shape=() dtype=int32>"
      ]
     },
     "execution_count": 5,
     "metadata": {},
     "output_type": "execute_result"
    }
   ],
   "source": [
    "ts_c"
   ]
  },
  {
   "cell_type": "code",
   "execution_count": 6,
   "id": "c589389b-843d-4fb5-a0fb-7c24ec342ba7",
   "metadata": {},
   "outputs": [],
   "source": [
    "ts_x = tf.Variable(ts_c+5,name='ts_x')"
   ]
  },
  {
   "cell_type": "code",
   "execution_count": 7,
   "id": "83b511b8-e04e-4275-af3e-0f45511c1be2",
   "metadata": {},
   "outputs": [
    {
     "data": {
      "text/plain": [
       "<tf.Variable 'ts_x:0' shape=() dtype=int32_ref>"
      ]
     },
     "execution_count": 7,
     "metadata": {},
     "output_type": "execute_result"
    }
   ],
   "source": [
    "ts_x"
   ]
  },
  {
   "cell_type": "code",
   "execution_count": 8,
   "id": "ca63fe20-6309-47d6-a197-5c97ab81c6e4",
   "metadata": {},
   "outputs": [],
   "source": [
    "sess=tf.Session()"
   ]
  },
  {
   "cell_type": "code",
   "execution_count": 9,
   "id": "3a3e87cb-edc2-42a7-834e-61e1f274bb61",
   "metadata": {},
   "outputs": [
    {
     "name": "stdout",
     "output_type": "stream",
     "text": [
      "WARNING:tensorflow:From C:\\Users\\user\\AppData\\Local\\Temp\\ipykernel_3704\\489362010.py:1: The name tf.global_variables_initializer is deprecated. Please use tf.compat.v1.global_variables_initializer instead.\n",
      "\n"
     ]
    }
   ],
   "source": [
    "init = tf.compat.v1.global_variables_initializer()\n",
    "sess.run(init)"
   ]
  },
  {
   "cell_type": "code",
   "execution_count": 10,
   "id": "3596f7af-8d4d-46a7-ba2a-ec6bf8e1fdb6",
   "metadata": {},
   "outputs": [
    {
     "name": "stdout",
     "output_type": "stream",
     "text": [
      "ts_c 2\n"
     ]
    }
   ],
   "source": [
    "print('ts_c',sess.run(ts_c))"
   ]
  },
  {
   "cell_type": "code",
   "execution_count": 11,
   "id": "d4cc5330-ba6b-401f-8dd2-2154b1af8aeb",
   "metadata": {},
   "outputs": [
    {
     "name": "stdout",
     "output_type": "stream",
     "text": [
      "ts_x 7\n"
     ]
    }
   ],
   "source": [
    "print('ts_x',sess.run(ts_x))"
   ]
  },
  {
   "cell_type": "code",
   "execution_count": 12,
   "id": "4d3233f0-a925-49a1-b07d-db33d921c221",
   "metadata": {},
   "outputs": [],
   "source": [
    "sess.close()"
   ]
  },
  {
   "cell_type": "code",
   "execution_count": 13,
   "id": "02380a24-d352-490a-a5ff-0c1ea3aa00b3",
   "metadata": {},
   "outputs": [
    {
     "name": "stdout",
     "output_type": "stream",
     "text": [
      "ts_c 2\n",
      "ts_x 7\n"
     ]
    }
   ],
   "source": [
    "import tensorflow.compat.v1 as tf\n",
    "tf.disable_v2_behavior()\n",
    "ts_c = tf.constant(2,name='ts_c')\n",
    "ts_x = tf.Variable(ts_c+5,name='ts_x')\n",
    "\n",
    "sess=tf.Session()\n",
    "init = tf.compat.v1.global_variables_initializer()\n",
    "sess.run(init)\n",
    "print('ts_c',sess.run(ts_c))\n",
    "print('ts_x',sess.run(ts_x))\n"
   ]
  },
  {
   "cell_type": "code",
   "execution_count": 15,
   "id": "8396ae64-741f-4c5b-a772-ee19f17251ae",
   "metadata": {},
   "outputs": [
    {
     "name": "stdout",
     "output_type": "stream",
     "text": [
      "ts_c 2\n",
      "ts_x 7\n"
     ]
    }
   ],
   "source": [
    "import tensorflow.compat.v1 as tf\n",
    "tf.disable_v2_behavior()\n",
    "ts_c = tf.constant(2,name='ts_c')\n",
    "ts_x = tf.Variable(ts_c+5,name='ts_x')\n",
    "with tf.Session() as sess:\n",
    "    init = tf.global_variables_initializer()\n",
    "    sess.run(init)\n",
    "    print('ts_c',sess.run(ts_c))\n",
    "    print('ts_x',sess.run(ts_x))"
   ]
  },
  {
   "cell_type": "code",
   "execution_count": 16,
   "id": "37f83574-4bc7-4cd0-a77a-0aa025135ba9",
   "metadata": {},
   "outputs": [],
   "source": [
    "width = tf.placeholder(\"int32\")\n",
    "height = tf.placeholder(\"int32\")\n",
    "area=tf.multiply(width,height)"
   ]
  },
  {
   "cell_type": "code",
   "execution_count": 17,
   "id": "704c5f8d-4a26-40fc-9c53-3bcda8ef4c21",
   "metadata": {},
   "outputs": [
    {
     "name": "stdout",
     "output_type": "stream",
     "text": [
      "area= 48\n"
     ]
    }
   ],
   "source": [
    "with tf.Session() as sess:\n",
    "    init = tf.global_variables_initializer()\n",
    "    sess.run(init)\n",
    "    print('area=',sess.run(area,feed_dict={width:6,height:8}))"
   ]
  },
  {
   "cell_type": "code",
   "execution_count": null,
   "id": "38fc96c9-a61d-4a65-becb-0b752b0add6a",
   "metadata": {},
   "outputs": [],
   "source": []
  }
 ],
 "metadata": {
  "kernelspec": {
   "display_name": "Python 3 (ipykernel)",
   "language": "python",
   "name": "python3"
  },
  "language_info": {
   "codemirror_mode": {
    "name": "ipython",
    "version": 3
   },
   "file_extension": ".py",
   "mimetype": "text/x-python",
   "name": "python",
   "nbconvert_exporter": "python",
   "pygments_lexer": "ipython3",
   "version": "3.11.7"
  }
 },
 "nbformat": 4,
 "nbformat_minor": 5
}
